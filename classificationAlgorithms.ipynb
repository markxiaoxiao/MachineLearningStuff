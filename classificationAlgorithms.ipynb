{
 "cells": [
  {
   "cell_type": "code",
   "execution_count": 2,
   "metadata": {
    "collapsed": true
   },
   "outputs": [],
   "source": [
    "#Spot check for classification problemos!!"
   ]
  },
  {
   "cell_type": "code",
   "execution_count": null,
   "metadata": {
    "collapsed": true
   },
   "outputs": [],
   "source": [
    "#Spot checking is wau of discovering which algorithm perform well on your machine.SInce  we dont know which one is best.\n",
    "#We need to use trial an error to shortlist algorithms that will do best on our problemo"
   ]
  },
  {
   "cell_type": "code",
   "execution_count": 30,
   "metadata": {
    "collapsed": false
   },
   "outputs": [
    {
     "name": "stdout",
     "output_type": "stream",
     "text": [
      "Mean result for logistic regression is = 0.76951469583\n"
     ]
    }
   ],
   "source": [
    "#Linear machine learning algorithms- Logistic regression\n",
    "#this assumes a gaussian distribution for the numeric input variables and can model ninary classification probmlemos\n",
    "#Logistic regression classification\n",
    "\n",
    "from pandas import read_csv\n",
    "from sklearn.model_selection import KFold\n",
    "from sklearn.model_selection import cross_val_score\n",
    "from sklearn.linear_model import LogisticRegression\n",
    "\n",
    "filename = 'pima-indians-diabetes.data.csv'\n",
    "names = ['preg', 'plas', 'pres', 'skin', 'test', 'mass', 'pedi', 'age', 'class'] # col names\n",
    "dataframe = read_csv(filename, names = names)\n",
    "array = dataframe.values\n",
    "X = array[:, 0:8]\n",
    "Y = array[ :,8]\n",
    "\n",
    "#num_folds = 10 # why is this even here ???????\n",
    "kfold = KFold(n_splits = 10, random_state = 7)\n",
    "model = LogisticRegression()\n",
    "results = cross_val_score(model, X, Y, cv = kfold)\n",
    "print(\"Mean result for logistic regression is = %s\") % results.mean()"
   ]
  },
  {
   "cell_type": "code",
   "execution_count": 32,
   "metadata": {
    "collapsed": false
   },
   "outputs": [
    {
     "name": "stdout",
     "output_type": "stream",
     "text": [
      "Mean result for LDA is = 0.773462064252\n"
     ]
    }
   ],
   "source": [
    "#Linear Dicriminant Analysis (lDA) is a statistical technique for binary and multiclass analysis.\n",
    "#LDA classification\n",
    "from pandas import read_csv\n",
    "from sklearn.model_selection import KFold\n",
    "from sklearn.model_selection import cross_val_score\n",
    "from sklearn.discriminant_analysis import LinearDiscriminantAnalysis\n",
    "\n",
    "filename = 'pima-indians-diabetes.data.csv'\n",
    "names = ['preg', 'plas', 'pres', 'skin', 'test', 'mass', 'pedi', 'age', 'class'] # col names\n",
    "dataframe = read_csv(filename, names = names)\n",
    "array = dataframe.values\n",
    "X = array[:, 0:8]\n",
    "Y = array[ :,8]\n",
    "\n",
    "kfold = KFold(n_splits = 10, random_state = 7)\n",
    "model = LinearDiscriminantAnalysis()\n",
    "results = cross_val_score(model, X, Y, cv = kfold)\n",
    "print(\"Mean result for LDA is = %s\") % results.mean()\n"
   ]
  },
  {
   "cell_type": "code",
   "execution_count": null,
   "metadata": {
    "collapsed": true
   },
   "outputs": [],
   "source": [
    "#non linear machine laerning algorithms"
   ]
  },
  {
   "cell_type": "code",
   "execution_count": 35,
   "metadata": {
    "collapsed": false
   },
   "outputs": [
    {
     "name": "stdout",
     "output_type": "stream",
     "text": [
      "Mean result for KNN is = 0.726555023923\n"
     ]
    }
   ],
   "source": [
    "#K nearest neighbors\n",
    "#uses a distance metric to find the k most similar instances in the training data for a new instance.\n",
    "#It then takes the mean outcome of the neighbours as the prediction\n",
    "\n",
    "#Knn classification\n",
    "from pandas import read_csv\n",
    "from sklearn.model_selection import KFold\n",
    "from sklearn.model_selection import cross_val_score\n",
    "from sklearn.neighbors import KNeighborsClassifier\n",
    "\n",
    "filename = 'pima-indians-diabetes.data.csv'\n",
    "names = ['preg', 'plas', 'pres', 'skin', 'test', 'mass', 'pedi', 'age', 'class'] # col names\n",
    "dataframe = read_csv(filename, names = names)\n",
    "array = dataframe.values\n",
    "X = array[:, 0:8]\n",
    "Y = array[ :,8]\n",
    "\n",
    "kfold = KFold(n_splits = 10, random_state = 7)\n",
    "model = KNeighborsClassifier()\n",
    "results = cross_val_score(model, X, Y, cv = kfold)\n",
    "print(\"Mean result for KNN is = %s\") % results.mean()"
   ]
  },
  {
   "cell_type": "code",
   "execution_count": 37,
   "metadata": {
    "collapsed": false
   },
   "outputs": [
    {
     "name": "stdout",
     "output_type": "stream",
     "text": [
      "Mean result for Naive Bayes is = 0.75517771702\n"
     ]
    }
   ],
   "source": [
    "#Naive Bays \n",
    "#calculates the probability of each class and conditional prob of each class with the given input value.\n",
    "#Gaussian naive bayes classification\n",
    "from pandas import read_csv\n",
    "from sklearn.model_selection import KFold\n",
    "from sklearn.model_selection import cross_val_score\n",
    "from sklearn.naive_bayes import GaussianNB\n",
    "\n",
    "filename = 'pima-indians-diabetes.data.csv'\n",
    "names = ['preg', 'plas', 'pres', 'skin', 'test', 'mass', 'pedi', 'age', 'class'] # col names\n",
    "dataframe = read_csv(filename, names = names)\n",
    "array = dataframe.values\n",
    "X = array[:, 0:8]\n",
    "Y = array[ :,8]\n",
    "\n",
    "kfold = KFold(n_splits = 10, random_state = 7)\n",
    "model = GaussianNB()\n",
    "results = cross_val_score(model, X, Y, cv = kfold)\n",
    "print(\"Mean result for Naive Bayes is = %s\") % results.mean()"
   ]
  },
  {
   "cell_type": "code",
   "execution_count": 44,
   "metadata": {
    "collapsed": false
   },
   "outputs": [
    {
     "name": "stdout",
     "output_type": "stream",
     "text": [
      "Mean result for CART is = 0.692600820232\n"
     ]
    }
   ],
   "source": [
    "#classifiction and regression trees \n",
    "#these construct a binary tree from the training data\n",
    "#CART Classification\n",
    "from pandas import read_csv\n",
    "from sklearn.model_selection import KFold\n",
    "from sklearn.model_selection import cross_val_score\n",
    "from sklearn.tree import DecisionTreeClassifier\n",
    "\n",
    "filename = 'pima-indians-diabetes.data.csv'\n",
    "names = ['preg', 'plas', 'pres', 'skin', 'test', 'mass', 'pedi', 'age', 'class'] # col names\n",
    "dataframe = read_csv(filename, names = names)\n",
    "array = dataframe.values\n",
    "X = array[:, 0:8]\n",
    "Y = array[ :,8]\n",
    "\n",
    "kfold = KFold(n_splits = 10, random_state = 7)\n",
    "model = DecisionTreeClassifier()\n",
    "results = cross_val_score(model, X, Y, cv = kfold)\n",
    "print(\"Mean result for CART is = %s\") % results.mean()"
   ]
  },
  {
   "cell_type": "code",
   "execution_count": 45,
   "metadata": {
    "collapsed": false
   },
   "outputs": [
    {
     "name": "stdout",
     "output_type": "stream",
     "text": [
      "Mean result for SVM is = 0.651025290499\n"
     ]
    }
   ],
   "source": [
    "#Support vector machines\n",
    "#they seek a line that best separates two classes. This can support multiple classes as well.\n",
    "#SVM CLassifier\n",
    "from pandas import read_csv\n",
    "from sklearn.model_selection import KFold\n",
    "from sklearn.model_selection import cross_val_score\n",
    "from sklearn.svm import SVC\n",
    "\n",
    "filename = 'pima-indians-diabetes.data.csv'\n",
    "names = ['preg', 'plas', 'pres', 'skin', 'test', 'mass', 'pedi', 'age', 'class'] # col names\n",
    "dataframe = read_csv(filename, names = names)\n",
    "array = dataframe.values\n",
    "X = array[:, 0:8]\n",
    "Y = array[ :,8]\n",
    "\n",
    "kfold = KFold(n_splits = 10, random_state = 7)\n",
    "model = SVC()\n",
    "results = cross_val_score(model, X, Y, cv = kfold)\n",
    "print(\"Mean result for SVM is = %s\") % results.mean()"
   ]
  },
  {
   "cell_type": "code",
   "execution_count": null,
   "metadata": {
    "collapsed": true
   },
   "outputs": [],
   "source": []
  },
  {
   "cell_type": "code",
   "execution_count": null,
   "metadata": {
    "collapsed": true
   },
   "outputs": [],
   "source": []
  }
 ],
 "metadata": {
  "kernelspec": {
   "display_name": "Python 2",
   "language": "python",
   "name": "python2"
  },
  "language_info": {
   "codemirror_mode": {
    "name": "ipython",
    "version": 2
   },
   "file_extension": ".py",
   "mimetype": "text/x-python",
   "name": "python",
   "nbconvert_exporter": "python",
   "pygments_lexer": "ipython2",
   "version": "2.7.13"
  }
 },
 "nbformat": 4,
 "nbformat_minor": 2
}
