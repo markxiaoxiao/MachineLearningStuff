{
 "cells": [
  {
   "cell_type": "code",
   "execution_count": 1,
   "metadata": {
    "collapsed": true
   },
   "outputs": [],
   "source": [
    "#Machine Learning algorithm performance metrics"
   ]
  },
  {
   "cell_type": "code",
   "execution_count": 7,
   "metadata": {
    "collapsed": false
   },
   "outputs": [
    {
     "name": "stdout",
     "output_type": "stream",
     "text": [
      "Accuracy negro = 76.951% (0.048)\n"
     ]
    }
   ],
   "source": [
    "#classification metrics\n",
    "#classficationa ccuracy\n",
    "\n",
    "#is the number of predictions made as a ratio to all predictions made\n",
    "\n",
    "from pandas import read_csv\n",
    "from sklearn.model_selection import KFold\n",
    "from sklearn.model_selection import cross_val_score\n",
    "from sklearn.linear_model import LogisticRegression\n",
    "\n",
    "filename = 'pima-indians-diabetes.data.csv'\n",
    "names = ['preg', 'plas', 'pres', 'skin', 'test', 'mass', 'pedi', 'age', 'class'] # col names\n",
    "dataframe = read_csv(filename, names = names)\n",
    "array = dataframe.values\n",
    "X = array[:, 0:8]\n",
    "Y = array[ :,8]\n",
    "\n",
    "kfold = KFold(n_splits = 10, random_state = 7)\n",
    "model = LogisticRegression()\n",
    "scoring = 'accuracy'\n",
    "\n",
    "results = cross_val_score(model, X, Y,  cv=kfold, scoring = scoring)\n",
    "print(\"Accuracy negro = %.3f%% (%.3f)\") % (results.mean()*100 , results.std())"
   ]
  },
  {
   "cell_type": "code",
   "execution_count": 11,
   "metadata": {
    "collapsed": false
   },
   "outputs": [
    {
     "name": "stdout",
     "output_type": "stream",
     "text": [
      "Logloss negro = -0.493 (0.047)\n"
     ]
    }
   ],
   "source": [
    "#logarithimic Loss\n",
    "#Log loss\n",
    "#Predictions that are correct or incorrect are rwarded/punished equally!\n",
    "#Cross validation  classification logloss\n",
    "#smaller the logloss the better, 0 is the perect logloss\n",
    "\n",
    "from pandas import read_csv\n",
    "from sklearn.model_selection import KFold\n",
    "from sklearn.model_selection import cross_val_score\n",
    "from sklearn.linear_model import LogisticRegression\n",
    "\n",
    "filename = 'pima-indians-diabetes.data.csv'\n",
    "names = ['preg', 'plas', 'pres', 'skin', 'test', 'mass', 'pedi', 'age', 'class'] # col names\n",
    "dataframe = read_csv(filename, names = names)\n",
    "array = dataframe.values\n",
    "X = array[:, 0:8]\n",
    "Y = array[ :,8]\n",
    "\n",
    "kfold = KFold(n_splits = 10, random_state = 7)\n",
    "model = LogisticRegression()\n",
    "scoring = 'neg_log_loss'\n",
    "\n",
    "results = cross_val_score(model, X, Y,  cv=kfold, scoring = scoring)\n",
    "print(\"Logloss negro = %.3f (%.3f)\") % (results.mean() , results.std())"
   ]
  },
  {
   "cell_type": "code",
   "execution_count": 15,
   "metadata": {
    "collapsed": false
   },
   "outputs": [
    {
     "name": "stdout",
     "output_type": "stream",
     "text": [
      "Area Under the Curve negro = 0.824 (0.041)\n"
     ]
    }
   ],
   "source": [
    "#area under curve \n",
    "#Performance metric for binary classiication,represents models adbility to discriminate beteween +ve nad _ve exammple\n",
    "#area of 1.0  represents perfect  predictions, area = 0.5 represents that model is as good as random\n",
    "from pandas import read_csv\n",
    "from sklearn.model_selection import KFold\n",
    "from sklearn.model_selection import cross_val_score\n",
    "from sklearn.linear_model import LogisticRegression\n",
    "\n",
    "filename = 'pima-indians-diabetes.data.csv'\n",
    "names = ['preg', 'plas', 'pres', 'skin', 'test', 'mass', 'pedi', 'age', 'class'] # col names\n",
    "dataframe = read_csv(filename, names = names)\n",
    "array = dataframe.values\n",
    "X = array[:, 0:8]\n",
    "Y = array[ :,8]\n",
    "\n",
    "kfold = KFold(n_splits = 10, random_state = 7)\n",
    "model = LogisticRegression()\n",
    "scoring = 'roc_auc'\n",
    "\n",
    "results = cross_val_score(model, X, Y,  cv=kfold, scoring = scoring)\n",
    "print(\"Area Under the Curve negro = %.3f (%.3f)\") % (results.mean() , results.std())"
   ]
  },
  {
   "cell_type": "code",
   "execution_count": 20,
   "metadata": {
    "collapsed": false
   },
   "outputs": [
    {
     "name": "stdout",
     "output_type": "stream",
     "text": [
      "[[141  21]\n",
      " [ 41  51]]\n"
     ]
    }
   ],
   "source": [
    "#confusion matrix\n",
    "#this is a handy presentation of the accuracy of the model with two or more classes\n",
    "\n",
    "from pandas import read_csv\n",
    "from sklearn.metrics import confusion_matrix\n",
    "from sklearn.model_selection import train_test_split\n",
    "from sklearn.linear_model import LogisticRegression\n",
    "\n",
    "filename = 'pima-indians-diabetes.data.csv'\n",
    "names = ['preg', 'plas', 'pres', 'skin', 'test', 'mass', 'pedi', 'age', 'class'] # col names\n",
    "dataframe = read_csv(filename, names = names)\n",
    "array = dataframe.values\n",
    "X = array[:, 0:8]\n",
    "Y = array[ :,8]\n",
    "\n",
    "test_size = 0.33\n",
    "seed = 7 \n",
    "X_train, X_test, Y_train, Y_test = train_test_split(X,Y, test_size = test_size, random_state = seed)\n",
    "model = LogisticRegression()\n",
    "model.fit(X_train, Y_train)\n",
    "predicted = model.predict(X_test)\n",
    "matrix = confusion_matrix(Y_test, predicted)\n",
    "print(matrix)\n",
    "\n",
    "\n",
    "\n"
   ]
  },
  {
   "cell_type": "code",
   "execution_count": 24,
   "metadata": {
    "collapsed": false
   },
   "outputs": [
    {
     "name": "stdout",
     "output_type": "stream",
     "text": [
      "             precision    recall  f1-score   support\n",
      "\n",
      "        0.0       0.77      0.87      0.82       162\n",
      "        1.0       0.71      0.55      0.62        92\n",
      "\n",
      "avg / total       0.75      0.76      0.75       254\n",
      "\n"
     ]
    }
   ],
   "source": [
    "#finally through scikit we can get a report\n",
    "#this report will give us the precision, recall, f1 score and support for each class.\n",
    "#cross validation classification report\n",
    "\n",
    "from pandas import read_csv\n",
    "from sklearn.metrics import classification_report\n",
    "from sklearn.model_selection import train_test_split\n",
    "from sklearn.linear_model import LogisticRegression\n",
    "\n",
    "filename = 'pima-indians-diabetes.data.csv'\n",
    "names = ['preg', 'plas', 'pres', 'skin', 'test', 'mass', 'pedi', 'age', 'class'] # col names\n",
    "dataframe = read_csv(filename, names = names)\n",
    "array = dataframe.values\n",
    "X = array[:, 0:8]\n",
    "Y = array[ :,8]\n",
    "\n",
    "test_size = 0.33\n",
    "seed = 7\n",
    "X_train, X_test, Y_train, Y_test = train_test_split(X,Y, test_size = test_size, random_state = seed)\n",
    "model = LogisticRegression()\n",
    "model.fit(X_train, Y_train)\n",
    "predicted = model.predict(X_test)\n",
    "report = classification_report(Y_test, predicted)\n",
    "\n",
    "print(report)"
   ]
  },
  {
   "cell_type": "code",
   "execution_count": 29,
   "metadata": {
    "collapsed": false
   },
   "outputs": [
    {
     "name": "stdout",
     "output_type": "stream",
     "text": [
      "MAE -4.005 (2.084)\n"
     ]
    }
   ],
   "source": [
    "#Regression metrics\n",
    "#Mean ABsolute Error\n",
    "#gives an idea of how wrong the prediction were by the absolute difference between predictions and actual values.\n",
    "#value of 0 indicates perfect predictions. is inverted like logloss\n",
    "\n",
    "from pandas import read_csv\n",
    "from sklearn.model_selection import KFold\n",
    "from sklearn.model_selection import cross_val_score\n",
    "from sklearn.linear_model import LinearRegression\n",
    "\n",
    "filename = 'housing.csv'\n",
    "names = [ 'CRIM', 'ZN', 'INDUS', 'CHAS', 'NOX', 'RM', 'AGE', 'DIS', 'RAD', 'TAX', 'PTRATIO', 'B', 'LSTAT', 'MEDV']\n",
    "dataframe = read_csv(filename, delim_whitespace= True, names = names)\n",
    "array = dataframe.values\n",
    "\n",
    "X = array[:,0:13]\n",
    "Y = array[:,13]\n",
    "\n",
    "kfold = KFold(n_splits = 10, random_state = 7)\n",
    "model = LinearRegression()\n",
    "scoring = 'neg_mean_absolute_error'\n",
    "results = cross_val_score(model, X, Y, cv = kfold, scoring = scoring)\n",
    "print(\"MAE %.3f (%.3f)\") %(results.mean(), results.std())"
   ]
  },
  {
   "cell_type": "code",
   "execution_count": 32,
   "metadata": {
    "collapsed": false
   },
   "outputs": [
    {
     "name": "stdout",
     "output_type": "stream",
     "text": [
      "MSE -34.705 (45.574)\n"
     ]
    }
   ],
   "source": [
    "#mean squared error\n",
    "from pandas import read_csv\n",
    "from sklearn.model_selection import KFold\n",
    "from sklearn.model_selection import cross_val_score\n",
    "from sklearn.linear_model import LinearRegression\n",
    "\n",
    "filename = 'housing.csv'\n",
    "names = [ 'CRIM', 'ZN', 'INDUS', 'CHAS', 'NOX', 'RM', 'AGE', 'DIS', 'RAD', 'TAX', 'PTRATIO', 'B', 'LSTAT', 'MEDV']\n",
    "dataframe = read_csv(filename, delim_whitespace= True, names = names)\n",
    "array = dataframe.values\n",
    "\n",
    "X = array[:,0:13]\n",
    "Y = array[:,13]\n",
    "\n",
    "num_folds = 10\n",
    "kfold = KFold(n_splits = 10, random_state = 7)\n",
    "model = LinearRegression()\n",
    "\n",
    "scoring = 'neg_mean_squared_error'\n",
    "results = cross_val_score(model, X, Y, cv = kfold, scoring = scoring)\n",
    "print(\"MSE %.3f (%.3f)\") %(results.mean(), results.std())"
   ]
  },
  {
   "cell_type": "code",
   "execution_count": 34,
   "metadata": {
    "collapsed": false
   },
   "outputs": [
    {
     "name": "stdout",
     "output_type": "stream",
     "text": [
      "R^2 = 0.203 (0.595)\n"
     ]
    }
   ],
   "source": [
    "#R squared metric\n",
    "# provides a goodness of the fit of a set of predictions to the actual values\n",
    "# aslo called coefficient of determination\n",
    "\n",
    "from pandas import read_csv\n",
    "from sklearn.model_selection import KFold\n",
    "from sklearn.model_selection import cross_val_score\n",
    "from sklearn.linear_model import LinearRegression\n",
    "\n",
    "filename = 'housing.csv'\n",
    "names = [ 'CRIM', 'ZN', 'INDUS', 'CHAS', 'NOX', 'RM', 'AGE', 'DIS', 'RAD', 'TAX', 'PTRATIO', 'B', 'LSTAT', 'MEDV']\n",
    "dataframe = read_csv(filename, delim_whitespace= True, names = names)\n",
    "array = dataframe.values\n",
    "\n",
    "X = array[:,0:13]\n",
    "Y = array[:,13]\n",
    "\n",
    "\n",
    "kfold = KFold(n_splits = 10, random_state = 7)\n",
    "model = LinearRegression()\n",
    "\n",
    "scoring = 'r2'\n",
    "results = cross_val_score(model, X, Y, cv = kfold, scoring = scoring)\n",
    "print(\"R^2 = %.3f (%.3f)\") %(results.mean(), results.std())\n",
    "\n",
    "\n",
    "\n"
   ]
  }
 ],
 "metadata": {
  "kernelspec": {
   "display_name": "Python 2",
   "language": "python",
   "name": "python2"
  },
  "language_info": {
   "codemirror_mode": {
    "name": "ipython",
    "version": 2
   },
   "file_extension": ".py",
   "mimetype": "text/x-python",
   "name": "python",
   "nbconvert_exporter": "python",
   "pygments_lexer": "ipython2",
   "version": "2.7.13"
  }
 },
 "nbformat": 4,
 "nbformat_minor": 2
}
