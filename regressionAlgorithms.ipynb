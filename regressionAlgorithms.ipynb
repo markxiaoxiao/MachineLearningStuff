{
 "cells": [
  {
   "cell_type": "code",
   "execution_count": 13,
   "metadata": {
    "collapsed": true
   },
   "outputs": [],
   "source": [
    "#Regression algorithms"
   ]
  },
  {
   "cell_type": "code",
   "execution_count": null,
   "metadata": {
    "collapsed": true
   },
   "outputs": [],
   "source": [
    "#Linear Machine Learning Algorithms"
   ]
  },
  {
   "cell_type": "code",
   "execution_count": 4,
   "metadata": {
    "collapsed": false
   },
   "outputs": [
    {
     "name": "stdout",
     "output_type": "stream",
     "text": [
      "Mean Squared Error from Linear Regression is = -34.7052559445\n"
     ]
    }
   ],
   "source": [
    "#Linear Regression\n",
    "from pandas import read_csv\n",
    "from sklearn.model_selection import KFold\n",
    "from sklearn.model_selection import cross_val_score\n",
    "from sklearn.linear_model import LinearRegression\n",
    "\n",
    "filename = 'housing.csv'\n",
    "names = [ 'CRIM', 'ZN', 'INDUS', 'CHAS', 'NOX', 'RM', 'AGE', 'DIS', 'RAD', 'TAX', 'PTRATIO', 'B', 'LSTAT', 'MEDV']\n",
    "dataframe = read_csv(filename, delim_whitespace= True, names = names)\n",
    "array = dataframe.values\n",
    "\n",
    "X = array[:,0:13]\n",
    "Y = array[:,13]\n",
    "\n",
    "\n",
    "kfold = KFold(n_splits = 10, random_state = 7)\n",
    "model = LinearRegression()\n",
    "scoring = 'neg_mean_squared_error'\n",
    "results = cross_val_score(model, X, Y,  cv = kfold, scoring = scoring)\n",
    "print(\"Mean Squared Error from Linear Regression is = %s\") % results.mean()"
   ]
  },
  {
   "cell_type": "code",
   "execution_count": 6,
   "metadata": {
    "collapsed": false
   },
   "outputs": [
    {
     "name": "stdout",
     "output_type": "stream",
     "text": [
      "Mean Squared Error from Ridge Regression is = -34.0782462093\n"
     ]
    }
   ],
   "source": [
    "#Ride Regression\n",
    "from pandas import read_csv\n",
    "from sklearn.model_selection import KFold\n",
    "from sklearn.model_selection import cross_val_score\n",
    "from sklearn.linear_model import Ridge\n",
    "\n",
    "filename = 'housing.csv'\n",
    "names = [ 'CRIM', 'ZN', 'INDUS', 'CHAS', 'NOX', 'RM', 'AGE', 'DIS', 'RAD', 'TAX', 'PTRATIO', 'B', 'LSTAT', 'MEDV']\n",
    "dataframe = read_csv(filename, delim_whitespace= True, names = names)\n",
    "array = dataframe.values\n",
    "\n",
    "X = array[:,0:13]\n",
    "Y = array[:,13]\n",
    "\n",
    "\n",
    "kfold = KFold(n_splits = 10, random_state = 7)\n",
    "model = Ridge()\n",
    "scoring = 'neg_mean_squared_error'\n",
    "results = cross_val_score(model, X, Y,  cv = kfold, scoring = scoring)\n",
    "print(\"Mean Squared Error from Ridge Regression is = %s\") % results.mean()"
   ]
  },
  {
   "cell_type": "code",
   "execution_count": 9,
   "metadata": {
    "collapsed": false
   },
   "outputs": [
    {
     "name": "stdout",
     "output_type": "stream",
     "text": [
      "Mean Squared Error from LASSO Regression is = -34.4640845883\n"
     ]
    }
   ],
   "source": [
    "#Lasso Regression.\n",
    "from pandas import read_csv\n",
    "from sklearn.model_selection import KFold\n",
    "from sklearn.model_selection import cross_val_score\n",
    "from sklearn.linear_model import Lasso\n",
    "\n",
    "filename = 'housing.csv'\n",
    "names = [ 'CRIM', 'ZN', 'INDUS', 'CHAS', 'NOX', 'RM', 'AGE', 'DIS', 'RAD', 'TAX', 'PTRATIO', 'B', 'LSTAT', 'MEDV']\n",
    "dataframe = read_csv(filename, delim_whitespace= True, names = names)\n",
    "array = dataframe.values\n",
    "\n",
    "X = array[:,0:13]\n",
    "Y = array[:,13]\n",
    "\n",
    "\n",
    "kfold = KFold(n_splits = 10, random_state = 7)\n",
    "model = Lasso()\n",
    "scoring = 'neg_mean_squared_error'\n",
    "results = cross_val_score(model, X, Y,  cv = kfold, scoring = scoring)\n",
    "print(\"Mean Squared Error from LASSO Regression is = %s\") % results.mean()"
   ]
  },
  {
   "cell_type": "code",
   "execution_count": 11,
   "metadata": {
    "collapsed": false
   },
   "outputs": [
    {
     "name": "stdout",
     "output_type": "stream",
     "text": [
      "Mean Squared Error from ElasticNet Regression is = -31.1645737142\n"
     ]
    }
   ],
   "source": [
    "#Elastic Net Regression.\n",
    "#Combines properties of both Lasso and Ridge Regression\n",
    "from pandas import read_csv\n",
    "from sklearn.model_selection import KFold\n",
    "from sklearn.model_selection import cross_val_score\n",
    "from sklearn.linear_model import ElasticNet\n",
    "\n",
    "filename = 'housing.csv'\n",
    "names = [ 'CRIM', 'ZN', 'INDUS', 'CHAS', 'NOX', 'RM', 'AGE', 'DIS', 'RAD', 'TAX', 'PTRATIO', 'B', 'LSTAT', 'MEDV']\n",
    "dataframe = read_csv(filename, delim_whitespace= True, names = names)\n",
    "array = dataframe.values\n",
    "\n",
    "X = array[:,0:13]\n",
    "Y = array[:,13]\n",
    "\n",
    "\n",
    "kfold = KFold(n_splits = 10, random_state = 7)\n",
    "model = ElasticNet()\n",
    "scoring = 'neg_mean_squared_error'\n",
    "results = cross_val_score(model, X, Y,  cv = kfold, scoring = scoring)\n",
    "print(\"Mean Squared Error from ElasticNet Regression is = %s\") % results.mean()"
   ]
  },
  {
   "cell_type": "code",
   "execution_count": 14,
   "metadata": {
    "collapsed": true
   },
   "outputs": [],
   "source": [
    "#Non Linear Machine Learning Algorithms"
   ]
  },
  {
   "cell_type": "code",
   "execution_count": 17,
   "metadata": {
    "collapsed": false
   },
   "outputs": [
    {
     "name": "stdout",
     "output_type": "stream",
     "text": [
      "Mean Squared Error from KNN Regression is = -107.28683898\n"
     ]
    }
   ],
   "source": [
    "#K-Nearest Neighbors\n",
    "#KNN Regression\n",
    "from pandas import read_csv\n",
    "from sklearn.model_selection import KFold\n",
    "from sklearn.model_selection import cross_val_score\n",
    "from sklearn.neighbors import KNeighborsRegressor\n",
    "\n",
    "filename = 'housing.csv'\n",
    "names = [ 'CRIM', 'ZN', 'INDUS', 'CHAS', 'NOX', 'RM', 'AGE', 'DIS', 'RAD', 'TAX', 'PTRATIO', 'B', 'LSTAT', 'MEDV']\n",
    "dataframe = read_csv(filename, delim_whitespace= True, names = names)\n",
    "array = dataframe.values\n",
    "\n",
    "X = array[:,0:13]\n",
    "Y = array[:,13]\n",
    "\n",
    "\n",
    "kfold = KFold(n_splits = 10, random_state = 7)\n",
    "model = KNeighborsRegressor()\n",
    "scoring = 'neg_mean_squared_error'\n",
    "results = cross_val_score(model, X, Y,  cv = kfold, scoring = scoring)\n",
    "print(\"Mean Squared Error from KNN Regression is = %s\") % results.mean()\n"
   ]
  },
  {
   "cell_type": "code",
   "execution_count": 57,
   "metadata": {
    "collapsed": false
   },
   "outputs": [
    {
     "name": "stdout",
     "output_type": "stream",
     "text": [
      "Mean Squared Error from CART Regression is = -37.3460580392\n"
     ]
    }
   ],
   "source": [
    "#Classsification and Regression Trees\n",
    "#Decision Tree Regression\n",
    "\n",
    "from pandas import read_csv\n",
    "from sklearn.model_selection import KFold\n",
    "from sklearn.model_selection import cross_val_score\n",
    "from sklearn.tree import DecisionTreeRegressor\n",
    "\n",
    "filename = 'housing.csv'\n",
    "names = [ 'CRIM', 'ZN', 'INDUS', 'CHAS', 'NOX', 'RM', 'AGE', 'DIS', 'RAD', 'TAX', 'PTRATIO', 'B', 'LSTAT', 'MEDV']\n",
    "dataframe = read_csv(filename, delim_whitespace= True, names = names)\n",
    "array = dataframe.values\n",
    "\n",
    "X = array[:,0:13]\n",
    "Y = array[:,13]\n",
    "\n",
    "\n",
    "kfold = KFold(n_splits = 10, random_state = 7)\n",
    "model = DecisionTreeRegressor()\n",
    "scoring = 'neg_mean_squared_error'\n",
    "results = cross_val_score(model, X, Y,  cv = kfold, scoring = scoring)\n",
    "print(\"Mean Squared Error from CART Regression is = %s\") % results.mean()\n"
   ]
  },
  {
   "cell_type": "code",
   "execution_count": 59,
   "metadata": {
    "collapsed": false
   },
   "outputs": [
    {
     "name": "stdout",
     "output_type": "stream",
     "text": [
      "Mean Squared Error from Support Vector Regression is = -91.0478243332\n"
     ]
    }
   ],
   "source": [
    "#Support Vector Machines\n",
    "#SVM Regression\n",
    "from pandas import read_csv\n",
    "from sklearn.model_selection import KFold\n",
    "from sklearn.model_selection import cross_val_score\n",
    "from sklearn.svm import SVR\n",
    "\n",
    "filename = 'housing.csv'\n",
    "names = [ 'CRIM', 'ZN', 'INDUS', 'CHAS', 'NOX', 'RM', 'AGE', 'DIS', 'RAD', 'TAX', 'PTRATIO', 'B', 'LSTAT', 'MEDV']\n",
    "dataframe = read_csv(filename, delim_whitespace= True, names = names)\n",
    "array = dataframe.values\n",
    "\n",
    "X = array[:,0:13]\n",
    "Y = array[:,13]\n",
    "\n",
    "\n",
    "kfold = KFold(n_splits = 10, random_state = 7)\n",
    "model = SVR()\n",
    "scoring = 'neg_mean_squared_error'\n",
    "results = cross_val_score(model, X, Y,  cv = kfold, scoring = scoring)\n",
    "print(\"Mean Squared Error from Support Vector Regression is = %s\") % results.mean()"
   ]
  }
 ],
 "metadata": {
  "kernelspec": {
   "display_name": "Python 2",
   "language": "python",
   "name": "python2"
  },
  "language_info": {
   "codemirror_mode": {
    "name": "ipython",
    "version": 2
   },
   "file_extension": ".py",
   "mimetype": "text/x-python",
   "name": "python",
   "nbconvert_exporter": "python",
   "pygments_lexer": "ipython2",
   "version": "2.7.13"
  }
 },
 "nbformat": 4,
 "nbformat_minor": 2
}
