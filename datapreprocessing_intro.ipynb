{
 "cells": [
  {
   "cell_type": "code",
   "execution_count": 19,
   "metadata": {
    "collapsed": false
   },
   "outputs": [
    {
     "name": "stdout",
     "output_type": "stream",
     "text": [
      "[[ 0.35  0.74  0.59  0.35  0.    0.5   0.23  0.48]\n",
      " [ 0.06  0.43  0.54  0.29  0.    0.4   0.12  0.17]\n",
      " [ 0.47  0.92  0.52  0.    0.    0.35  0.25  0.18]\n",
      " [ 0.06  0.45  0.54  0.23  0.11  0.42  0.04  0.  ]\n",
      " [ 0.    0.69  0.33  0.35  0.2   0.64  0.94  0.2 ]]\n"
     ]
    }
   ],
   "source": [
    "#data pre processing\n",
    "#rescaling data between 0 & 1\n",
    "from pandas import read_csv\n",
    "from numpy import set_printoptions\n",
    "from sklearn.preprocessing import MinMaxScaler\n",
    "\n",
    "filename = 'pima-indians-diabetes.data.csv'\n",
    "names = ['preg', 'plas', 'pres', 'skin', 'test', 'mass', 'pedi', 'age', 'class'] # col names\n",
    "dataframe = read_csv(filename, names = names)\n",
    "array = dataframe.values\n",
    "\n",
    "#now we sepearate array into input and output components\n",
    "X = array[:, 0:8]\n",
    "Y = array[8, :]\n",
    "scaler = MinMaxScaler(feature_range=(0,1))\n",
    "rescaledX = scaler.fit_transform(X)\n",
    "\n",
    "#summarrize the transformed data\n",
    "set_printoptions(precision = 2)\n",
    "print(rescaledX[0:5,:])\n"
   ]
  },
  {
   "cell_type": "code",
   "execution_count": 34,
   "metadata": {
    "collapsed": false
   },
   "outputs": [
    {
     "name": "stdout",
     "output_type": "stream",
     "text": [
      "[[ 0.64  0.85  0.15  0.91 -0.69  0.2   0.47  1.43]\n",
      " [-0.84 -1.12 -0.16  0.53 -0.69 -0.68 -0.37 -0.19]\n",
      " [ 1.23  1.94 -0.26 -1.29 -0.69 -1.1   0.6  -0.11]\n",
      " [-0.84 -1.   -0.16  0.15  0.12 -0.49 -0.92 -1.04]\n",
      " [-1.14  0.5  -1.5   0.91  0.77  1.41  5.48 -0.02]]\n"
     ]
    }
   ],
   "source": [
    "#Standardizing data to make the std deviation = 1 and mean alue to be 0\n",
    "from sklearn.preprocessing import StandardScaler\n",
    "from pandas import read_csv\n",
    "from numpy import set_printoptions\n",
    "\n",
    "filename = 'pima-indians-diabetes.data.csv'\n",
    "names = ['preg', 'plas', 'pres', 'skin', 'test', 'mass', 'pedi', 'age', 'class'] # col names\n",
    "dataframe = read_csv(filename, names = names)\n",
    "array = dataframe.values\n",
    "\n",
    "#now we sepearate array into input and output components\n",
    "X = array[:, 0:8]\n",
    "Y = array[8, :]\n",
    "scaler = StandardScaler().fit(X)\n",
    "rescaledX = scaler.fit_transform(X)\n",
    "\n",
    "#summarize trnaform data\n",
    "set_printoptions(precision = 2)\n",
    "print(rescaledX[0:5 ,:])\n",
    "\n"
   ]
  },
  {
   "cell_type": "code",
   "execution_count": 42,
   "metadata": {
    "collapsed": false
   },
   "outputs": [
    {
     "name": "stdout",
     "output_type": "stream",
     "text": [
      "[[ 0.034  0.828  0.403  0.196  0.     0.188  0.004  0.28 ]\n",
      " [ 0.008  0.716  0.556  0.244  0.     0.224  0.003  0.261]\n",
      " [ 0.04   0.924  0.323  0.     0.     0.118  0.003  0.162]\n",
      " [ 0.007  0.588  0.436  0.152  0.622  0.186  0.001  0.139]\n",
      " [ 0.     0.596  0.174  0.152  0.731  0.188  0.01   0.144]]\n"
     ]
    }
   ],
   "source": [
    "#Normalizing data . This method is used as a pre processing method for sparse data set \n",
    "from sklearn.preprocessing import Normalizer\n",
    "from pandas import read_csv\n",
    "from numpy import set_printoptions\n",
    "\n",
    "filename = 'pima-indians-diabetes.data.csv'\n",
    "names = ['preg', 'plas', 'pres', 'skin', 'test', 'mass', 'pedi', 'age', 'class'] # col names\n",
    "dataframe = read_csv(filename, names = names)\n",
    "array = dataframe.values\n",
    "\n",
    "#separate array into input adn output components\n",
    "X = array[:, 0:8]\n",
    "Y = array[8, :]\n",
    "scaler = Normalizer().fit(X)\n",
    "normalizedX = scaler.fit_transform(X)\n",
    "\n",
    "set_printoptions(precision = 3)\n",
    "print(normalizedX[0:5,:]) \n",
    "\n",
    "\n"
   ]
  },
  {
   "cell_type": "code",
   "execution_count": 41,
   "metadata": {
    "collapsed": false
   },
   "outputs": [
    {
     "name": "stdout",
     "output_type": "stream",
     "text": [
      "[[ 1.  1.  1.  1.  0.  1.  1.  1.]\n",
      " [ 1.  1.  1.  1.  0.  1.  1.  1.]\n",
      " [ 1.  1.  1.  0.  0.  1.  1.  1.]\n",
      " [ 1.  1.  1.  1.  1.  1.  1.  1.]\n",
      " [ 0.  1.  1.  1.  1.  1.  1.  1.]]\n"
     ]
    }
   ],
   "source": [
    "#Binarizing data !!!  making data binary cero y un\n",
    "\n",
    "from sklearn.preprocessing import Binarizer\n",
    "from pandas import read_csv\n",
    "from numpy import set_printoptions\n",
    "\n",
    "filename = 'pima-indians-diabetes.data.csv'\n",
    "names = ['preg', 'plas', 'pres', 'skin', 'test', 'mass', 'pedi', 'age', 'class'] # col names\n",
    "dataframe = read_csv(filename, names = names)\n",
    "array = dataframe.values\n",
    "\n",
    "X = array[:, 0:8]\n",
    "Y = array[8, :]\n",
    "binarizer = Binarizer(threshold = 0.0).fit(X)\n",
    "binarizedX = binarizer.transform(X)\n",
    "\n",
    "set_printoptions(precision = 3)\n",
    "print(binarizedX[0:5,:]) \n",
    "\n"
   ]
  },
  {
   "cell_type": "code",
   "execution_count": null,
   "metadata": {
    "collapsed": true
   },
   "outputs": [],
   "source": []
  },
  {
   "cell_type": "code",
   "execution_count": null,
   "metadata": {
    "collapsed": true
   },
   "outputs": [],
   "source": []
  },
  {
   "cell_type": "code",
   "execution_count": null,
   "metadata": {
    "collapsed": true
   },
   "outputs": [],
   "source": []
  },
  {
   "cell_type": "code",
   "execution_count": null,
   "metadata": {
    "collapsed": true
   },
   "outputs": [],
   "source": []
  }
 ],
 "metadata": {
  "kernelspec": {
   "display_name": "Python 2",
   "language": "python",
   "name": "python2"
  },
  "language_info": {
   "codemirror_mode": {
    "name": "ipython",
    "version": 2
   },
   "file_extension": ".py",
   "mimetype": "text/x-python",
   "name": "python",
   "nbconvert_exporter": "python",
   "pygments_lexer": "ipython2",
   "version": "2.7.13"
  }
 },
 "nbformat": 4,
 "nbformat_minor": 2
}
