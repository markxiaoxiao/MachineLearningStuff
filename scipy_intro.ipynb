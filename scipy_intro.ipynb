{
 "cells": [
  {
   "cell_type": "code",
   "execution_count": 6,
   "metadata": {
    "collapsed": false
   },
   "outputs": [],
   "source": [
    "import numpy"
   ]
  },
  {
   "cell_type": "code",
   "execution_count": 12,
   "metadata": {
    "collapsed": false
   },
   "outputs": [
    {
     "name": "stdout",
     "output_type": "stream",
     "text": [
      "[1 2 3 4 5 6]\n",
      "(6L,)\n"
     ]
    }
   ],
   "source": [
    "# lists to numpy array is easy!!\n",
    "mylist = [1,2,3,4,5,6]\n",
    "myarray = numpy.array(mylist)\n",
    "\n",
    "print(myarray)\n",
    "print(myarray.shape)"
   ]
  },
  {
   "cell_type": "code",
   "execution_count": 16,
   "metadata": {
    "collapsed": false
   },
   "outputs": [
    {
     "name": "stdout",
     "output_type": "stream",
     "text": [
      "[3 4 5 6]\n",
      "[2 4 6 8]\n"
     ]
    }
   ],
   "source": [
    "#direct use of numpy in array for math!\n",
    "myarray1 = numpy.array([1,2,3,4])\n",
    "myarray2 = numpy.array([2,2,2,2])\n",
    "\n",
    "print(myarray1 + myarray2)\n",
    "print(myarray1 * myarray2)"
   ]
  },
  {
   "cell_type": "code",
   "execution_count": 17,
   "metadata": {
    "collapsed": true
   },
   "outputs": [],
   "source": [
    "import matplotlib.pyplot as plt"
   ]
  },
  {
   "cell_type": "code",
   "execution_count": 20,
   "metadata": {
    "collapsed": false
   },
   "outputs": [
    {
     "data": {
      "image/png": "[encoded data removed]",
      "text/plain": [
       "<matplotlib.figure.Figure at 0x6fd7278>"
      ]
     },
     "metadata": {},
     "output_type": "display_data"
    }
   ],
   "source": [
    "#testing it out for basic line plots\n",
    "\n",
    "myarray3 = numpy.array([4,3,-1])\n",
    "plt.plot(myarray3)\n",
    "plt.xlabel(\"Time\")\n",
    "plt.ylabel(\"Age\")\n",
    "plt.show()"
   ]
  },
  {
   "cell_type": "code",
   "execution_count": 24,
   "metadata": {
    "collapsed": false,
    "scrolled": true
   },
   "outputs": [
    {
     "data": {
      "image/png": "[encoded data removed]",
      "text/plain": [
       "<matplotlib.figure.Figure at 0x732c5c0>"
      ]
     },
     "metadata": {},
     "output_type": "display_data"
    }
   ],
   "source": [
    "#testing it out for basic scattered plots!\n",
    "x = numpy.array([23,14,45, 48])\n",
    "y = numpy.array([32,10, 2, 47])\n",
    "plt.scatter(x,y)\n",
    "plt.xlabel(\"People\")\n",
    "plt.ylabel(\"Bruuuuuuuuuh\")\n",
    "plt.show()"
   ]
  },
  {
   "cell_type": "code",
   "execution_count": 25,
   "metadata": {
    "collapsed": true
   },
   "outputs": [],
   "source": [
    "import pandas"
   ]
  },
  {
   "cell_type": "code",
   "execution_count": 28,
   "metadata": {
    "collapsed": false
   },
   "outputs": [
    {
     "name": "stdout",
     "output_type": "stream",
     "text": [
      "a    1\n",
      "b    2\n",
      "c    3\n",
      "d    4\n",
      "dtype: int32\n"
     ]
    }
   ],
   "source": [
    "#testing with series.\n",
    "myarray4 = numpy.array([1,2,3,4])\n",
    "rownames = ['a', 'b', 'c', 'd']\n",
    "myseries = pandas.Series(myarray4, index = rownames)\n",
    "print(myseries)"
   ]
  },
  {
   "cell_type": "code",
   "execution_count": 29,
   "metadata": {
    "collapsed": false
   },
   "outputs": [
    {
     "name": "stdout",
     "output_type": "stream",
     "text": [
      "1\n",
      "1\n"
     ]
    }
   ],
   "source": [
    "#can access data in a series like a numpy array.\n",
    "print(myseries[0])\n",
    "print(myseries['a'])"
   ]
  },
  {
   "cell_type": "code",
   "execution_count": 31,
   "metadata": {
    "collapsed": false
   },
   "outputs": [
    {
     "name": "stdout",
     "output_type": "stream",
     "text": [
      "   uno  dos  tres  cuatro\n",
      "a    1    2     3       4\n",
      "b    4    5     6       7\n"
     ]
    }
   ],
   "source": [
    "#testing out functionality of data frame\n",
    "myarray5 = numpy.array([[1,2,3,4], [4,5,6,7]])\n",
    "rownames = ['a', 'b']\n",
    "colnames = ['uno', 'dos', 'tres', 'cuatro']\n",
    "mydataframe = pandas.DataFrame(myarray5, index = rownames, columns = colnames)\n",
    "print(mydataframe)"
   ]
  },
  {
   "cell_type": "code",
   "execution_count": 39,
   "metadata": {
    "collapsed": false
   },
   "outputs": [
    {
     "name": "stdout",
     "output_type": "stream",
     "text": [
      "1st way:\n",
      "one colomn: a    1\n",
      "b    4\n",
      "Name: uno, dtype: int32\n",
      "2nd way:\n",
      "one colomn: a    1\n",
      "b    4\n",
      "Name: uno, dtype: int32\n"
     ]
    }
   ],
   "source": [
    "#data can be indexed using colomn names\n",
    "print(\"1st way:\")\n",
    "print(\"one colomn: %s\" ) % mydataframe['uno']\n",
    "\n",
    "print(\"2nd way:\")\n",
    "print(\"one colomn: %s\") % mydataframe.uno"
   ]
  },
  {
   "cell_type": "code",
   "execution_count": null,
   "metadata": {
    "collapsed": true
   },
   "outputs": [],
   "source": []
  },
  {
   "cell_type": "code",
   "execution_count": null,
   "metadata": {
    "collapsed": true
   },
   "outputs": [],
   "source": []
  },
  {
   "cell_type": "code",
   "execution_count": null,
   "metadata": {
    "collapsed": true
   },
   "outputs": [],
   "source": []
  },
  {
   "cell_type": "code",
   "execution_count": null,
   "metadata": {
    "collapsed": true
   },
   "outputs": [],
   "source": []
  },
  {
   "cell_type": "code",
   "execution_count": null,
   "metadata": {
    "collapsed": true
   },
   "outputs": [],
   "source": []
  },
  {
   "cell_type": "code",
   "execution_count": null,
   "metadata": {
    "collapsed": true
   },
   "outputs": [],
   "source": []
  },
  {
   "cell_type": "code",
   "execution_count": null,
   "metadata": {
    "collapsed": true
   },
   "outputs": [],
   "source": []
  }
 ],
 "metadata": {
  "kernelspec": {
   "display_name": "Python 2",
   "language": "python",
   "name": "python2"
  },
  "language_info": {
   "codemirror_mode": {
    "name": "ipython",
    "version": 2
   },
   "file_extension": ".py",
   "mimetype": "text/x-python",
   "name": "python",
   "nbconvert_exporter": "python",
   "pygments_lexer": "ipython2",
   "version": "2.7.13"
  }
 },
 "nbformat": 4,
 "nbformat_minor": 2
}
